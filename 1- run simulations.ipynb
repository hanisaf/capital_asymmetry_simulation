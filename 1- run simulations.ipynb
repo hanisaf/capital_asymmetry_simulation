{
 "cells": [
  {
   "cell_type": "markdown",
   "metadata": {},
   "source": [
    "# Step 1: run the simulation"
   ]
  },
  {
   "cell_type": "code",
   "execution_count": 6,
   "metadata": {},
   "outputs": [
    {
     "name": "stdout",
     "output_type": "stream",
     "text": [
      "Python 3.9.7\n"
     ]
    }
   ],
   "source": [
    "import numpy as np\n",
    "import pandas as pd\n",
    "import seaborn as sns\n",
    "import pyarrow, sys\n",
    "from datetime import datetime\n",
    "import simulations, utilities\n",
    "from utilities import Runner\n",
    "!{sys.executable} --version"
   ]
  },
  {
   "cell_type": "code",
   "execution_count": 7,
   "metadata": {},
   "outputs": [
    {
     "name": "stdout",
     "output_type": "stream",
     "text": [
      "numpy == 1.20.3 pyarrow == 7.0.0 seaborn ==  0.11.2\n"
     ]
    }
   ],
   "source": [
    "print('numpy ==', np.__version__, 'pyarrow ==',pyarrow.__version__, 'seaborn == ', sns.__version__)"
   ]
  },
  {
   "cell_type": "code",
   "execution_count": 8,
   "metadata": {},
   "outputs": [],
   "source": [
    "# main experiment parameters\n",
    "maxn = 10\n",
    "params1 = {\n",
    "          'simulation_size': [100],\n",
    "          'simulation_time': [50],\n",
    "          'initial_economic_stock': [100],\n",
    "          'exploration_norms': [ 0.1, 0.3,  0.5,  0.7,  0.9 ],\n",
    "          'exploration_effort': [ 10 ],\n",
    "          'N': [2, 3, 4, 5, 6, 7],\n",
    "          'K':[1, 2, 3, 4, 5, 6],\n",
    "          'A' : [0.6, 0.7, 0.8, 0.9],\n",
    "         }\n",
    "\n",
    "runs_per_configuration = 10\n",
    "\n",
    "experiments = {'main':params1, }\n"
   ]
  },
  {
   "cell_type": "code",
   "execution_count": 9,
   "metadata": {
    "scrolled": false
   },
   "outputs": [
    {
     "name": "stdout",
     "output_type": "stream",
     "text": [
      "2023-03-03 11:30:43.449699\n",
      "Running experiment main  ... \n",
      "You have 9 CPUs that the simulation will use\n"
     ]
    },
    {
     "name": "stderr",
     "output_type": "stream",
     "text": [
      "/Users/hanisaf/Projects/capital_asymmetry_simulation/utilities.py:160: RuntimeWarning: invalid value encountered in double_scalars\n",
      "  return (n + 1 - 2 * np.sum(cumx) / cumx[-1]) / n\n",
      "/Users/hanisaf/Projects/capital_asymmetry_simulation/utilities.py:160: RuntimeWarning: invalid value encountered in double_scalars\n",
      "  return (n + 1 - 2 * np.sum(cumx) / cumx[-1]) / n\n",
      "/Users/hanisaf/Projects/capital_asymmetry_simulation/utilities.py:160: RuntimeWarning: invalid value encountered in double_scalars\n",
      "  return (n + 1 - 2 * np.sum(cumx) / cumx[-1]) / n\n",
      "/Users/hanisaf/Projects/capital_asymmetry_simulation/utilities.py:160: RuntimeWarning: invalid value encountered in double_scalars\n",
      "  return (n + 1 - 2 * np.sum(cumx) / cumx[-1]) / n\n",
      "/Users/hanisaf/Projects/capital_asymmetry_simulation/utilities.py:160: RuntimeWarning: invalid value encountered in double_scalars\n",
      "  return (n + 1 - 2 * np.sum(cumx) / cumx[-1]) / n\n",
      "/Users/hanisaf/Projects/capital_asymmetry_simulation/utilities.py:160: RuntimeWarning: invalid value encountered in double_scalars\n",
      "  return (n + 1 - 2 * np.sum(cumx) / cumx[-1]) / n\n",
      "/Users/hanisaf/Projects/capital_asymmetry_simulation/utilities.py:160: RuntimeWarning: invalid value encountered in double_scalars\n",
      "  return (n + 1 - 2 * np.sum(cumx) / cumx[-1]) / n\n",
      "/Users/hanisaf/Projects/capital_asymmetry_simulation/utilities.py:160: RuntimeWarning: invalid value encountered in double_scalars\n",
      "  return (n + 1 - 2 * np.sum(cumx) / cumx[-1]) / n\n",
      "/Users/hanisaf/Projects/capital_asymmetry_simulation/utilities.py:160: RuntimeWarning: invalid value encountered in double_scalars\n",
      "  return (n + 1 - 2 * np.sum(cumx) / cumx[-1]) / n\n"
     ]
    },
    {
     "name": "stdout",
     "output_type": "stream",
     "text": [
      "Writing files ... \n",
      "2023-03-03 11:31:33.070204\n",
      "\n"
     ]
    }
   ],
   "source": [
    "k = 'main'\n",
    "print(datetime.now())\n",
    "print(\"Running experiment\", k, \" ... \")\n",
    "params = experiments[k]\n",
    "model = simulations.SimulationNK\n",
    "results = Runner.run_configurations(model, params, verbose=False, parallel=True, runs_per_configuration = runs_per_configuration)\n",
    "data_his = Runner.create_result_table(results, history=True)\n",
    "data_agg = Runner.create_result_table(results, history=False)\n",
    "print(\"Writing files ... \")\n",
    "filename = str(model).replace(\"<class '\", '').replace(\"'>\", '')\n",
    "data_agg.to_parquet(f\"{filename}_{k}_agg.parquet\", index=False)\n",
    "data_his.to_parquet(f\"{filename}_{k}_his.parquet\", index=False)\n",
    "print(datetime.now())\n",
    "print()"
   ]
  },
  {
   "cell_type": "code",
   "execution_count": null,
   "metadata": {},
   "outputs": [],
   "source": []
  }
 ],
 "metadata": {
  "kernelspec": {
   "display_name": "base",
   "language": "python",
   "name": "python3"
  },
  "language_info": {
   "codemirror_mode": {
    "name": "ipython",
    "version": 3
   },
   "file_extension": ".py",
   "mimetype": "text/x-python",
   "name": "python",
   "nbconvert_exporter": "python",
   "pygments_lexer": "ipython3",
   "version": "3.9.7"
  },
  "vscode": {
   "interpreter": {
    "hash": "3fa4176f5de9ae6c91a1bd4136ab006209e86b2e8b7f39ef63b16e591f0d5980"
   }
  }
 },
 "nbformat": 4,
 "nbformat_minor": 2
}
